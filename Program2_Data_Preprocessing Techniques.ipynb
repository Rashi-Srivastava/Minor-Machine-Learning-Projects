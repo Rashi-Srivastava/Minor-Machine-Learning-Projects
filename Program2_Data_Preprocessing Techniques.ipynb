{
 "cells": [
  {
   "cell_type": "markdown",
   "metadata": {},
   "source": [
    "# Program 2: Python program to implement the Data preprocessing techniques"
   ]
  },
  {
   "cell_type": "code",
   "execution_count": 2,
   "metadata": {},
   "outputs": [
    {
     "name": "stdout",
     "output_type": "stream",
     "text": [
      "    Emp#  YearsOfExp  Salary in Rs.\n",
      "0      1          10         126015\n",
      "1      2           1          12598\n",
      "2      3           8         100639\n",
      "3      4          10         125351\n",
      "4      5           2          25031\n",
      "5      6           5          62630\n",
      "6      7           9         112620\n",
      "7      8           8         100639\n",
      "8      9           4          50145\n",
      "9     10           2          25232\n",
      "10    11           9         112770\n",
      "11    12           3          37512\n",
      "12    13           4          50274\n",
      "13    14           5          62768\n",
      "14    15          10         125363\n",
      "15    16           2          25226\n",
      "16    17           6          75392\n",
      "17    18           7          87779\n",
      "18    19           7          87654\n",
      "19    20           3          37592\n",
      "20    21          10         125186\n",
      "21    22           2          25187\n",
      "22    23           9         113309\n",
      "23    24           9         113112\n",
      "24    25          10         125506\n"
     ]
    }
   ],
   "source": [
    "import pandas as pd\n",
    "import numpy as np\n",
    "data=pd.read_csv(r'/home/rashi/Documents/ML_Programs/Stats.csv')\n",
    "print(data)"
   ]
  },
  {
   "cell_type": "code",
   "execution_count": 3,
   "metadata": {},
   "outputs": [
    {
     "data": {
      "text/html": [
       "<div>\n",
       "<style scoped>\n",
       "    .dataframe tbody tr th:only-of-type {\n",
       "        vertical-align: middle;\n",
       "    }\n",
       "\n",
       "    .dataframe tbody tr th {\n",
       "        vertical-align: top;\n",
       "    }\n",
       "\n",
       "    .dataframe thead th {\n",
       "        text-align: right;\n",
       "    }\n",
       "</style>\n",
       "<table border=\"1\" class=\"dataframe\">\n",
       "  <thead>\n",
       "    <tr style=\"text-align: right;\">\n",
       "      <th></th>\n",
       "      <th>Emp#</th>\n",
       "      <th>YearsOfExp</th>\n",
       "      <th>Salary in Rs.</th>\n",
       "    </tr>\n",
       "  </thead>\n",
       "  <tbody>\n",
       "    <tr>\n",
       "      <th>0</th>\n",
       "      <td>False</td>\n",
       "      <td>False</td>\n",
       "      <td>False</td>\n",
       "    </tr>\n",
       "    <tr>\n",
       "      <th>1</th>\n",
       "      <td>False</td>\n",
       "      <td>False</td>\n",
       "      <td>False</td>\n",
       "    </tr>\n",
       "    <tr>\n",
       "      <th>2</th>\n",
       "      <td>False</td>\n",
       "      <td>False</td>\n",
       "      <td>False</td>\n",
       "    </tr>\n",
       "    <tr>\n",
       "      <th>3</th>\n",
       "      <td>False</td>\n",
       "      <td>False</td>\n",
       "      <td>False</td>\n",
       "    </tr>\n",
       "    <tr>\n",
       "      <th>4</th>\n",
       "      <td>False</td>\n",
       "      <td>False</td>\n",
       "      <td>False</td>\n",
       "    </tr>\n",
       "    <tr>\n",
       "      <th>5</th>\n",
       "      <td>False</td>\n",
       "      <td>False</td>\n",
       "      <td>False</td>\n",
       "    </tr>\n",
       "    <tr>\n",
       "      <th>6</th>\n",
       "      <td>False</td>\n",
       "      <td>False</td>\n",
       "      <td>False</td>\n",
       "    </tr>\n",
       "    <tr>\n",
       "      <th>7</th>\n",
       "      <td>False</td>\n",
       "      <td>False</td>\n",
       "      <td>False</td>\n",
       "    </tr>\n",
       "    <tr>\n",
       "      <th>8</th>\n",
       "      <td>False</td>\n",
       "      <td>False</td>\n",
       "      <td>False</td>\n",
       "    </tr>\n",
       "    <tr>\n",
       "      <th>9</th>\n",
       "      <td>False</td>\n",
       "      <td>False</td>\n",
       "      <td>False</td>\n",
       "    </tr>\n",
       "    <tr>\n",
       "      <th>10</th>\n",
       "      <td>False</td>\n",
       "      <td>False</td>\n",
       "      <td>False</td>\n",
       "    </tr>\n",
       "    <tr>\n",
       "      <th>11</th>\n",
       "      <td>False</td>\n",
       "      <td>False</td>\n",
       "      <td>False</td>\n",
       "    </tr>\n",
       "    <tr>\n",
       "      <th>12</th>\n",
       "      <td>False</td>\n",
       "      <td>False</td>\n",
       "      <td>False</td>\n",
       "    </tr>\n",
       "    <tr>\n",
       "      <th>13</th>\n",
       "      <td>False</td>\n",
       "      <td>False</td>\n",
       "      <td>False</td>\n",
       "    </tr>\n",
       "    <tr>\n",
       "      <th>14</th>\n",
       "      <td>False</td>\n",
       "      <td>False</td>\n",
       "      <td>False</td>\n",
       "    </tr>\n",
       "    <tr>\n",
       "      <th>15</th>\n",
       "      <td>False</td>\n",
       "      <td>False</td>\n",
       "      <td>False</td>\n",
       "    </tr>\n",
       "    <tr>\n",
       "      <th>16</th>\n",
       "      <td>False</td>\n",
       "      <td>False</td>\n",
       "      <td>False</td>\n",
       "    </tr>\n",
       "    <tr>\n",
       "      <th>17</th>\n",
       "      <td>False</td>\n",
       "      <td>False</td>\n",
       "      <td>False</td>\n",
       "    </tr>\n",
       "    <tr>\n",
       "      <th>18</th>\n",
       "      <td>False</td>\n",
       "      <td>False</td>\n",
       "      <td>False</td>\n",
       "    </tr>\n",
       "    <tr>\n",
       "      <th>19</th>\n",
       "      <td>False</td>\n",
       "      <td>False</td>\n",
       "      <td>False</td>\n",
       "    </tr>\n",
       "    <tr>\n",
       "      <th>20</th>\n",
       "      <td>False</td>\n",
       "      <td>False</td>\n",
       "      <td>False</td>\n",
       "    </tr>\n",
       "    <tr>\n",
       "      <th>21</th>\n",
       "      <td>False</td>\n",
       "      <td>False</td>\n",
       "      <td>False</td>\n",
       "    </tr>\n",
       "    <tr>\n",
       "      <th>22</th>\n",
       "      <td>False</td>\n",
       "      <td>False</td>\n",
       "      <td>False</td>\n",
       "    </tr>\n",
       "    <tr>\n",
       "      <th>23</th>\n",
       "      <td>False</td>\n",
       "      <td>False</td>\n",
       "      <td>False</td>\n",
       "    </tr>\n",
       "    <tr>\n",
       "      <th>24</th>\n",
       "      <td>False</td>\n",
       "      <td>False</td>\n",
       "      <td>False</td>\n",
       "    </tr>\n",
       "  </tbody>\n",
       "</table>\n",
       "</div>"
      ],
      "text/plain": [
       "     Emp#  YearsOfExp  Salary in Rs.\n",
       "0   False       False          False\n",
       "1   False       False          False\n",
       "2   False       False          False\n",
       "3   False       False          False\n",
       "4   False       False          False\n",
       "5   False       False          False\n",
       "6   False       False          False\n",
       "7   False       False          False\n",
       "8   False       False          False\n",
       "9   False       False          False\n",
       "10  False       False          False\n",
       "11  False       False          False\n",
       "12  False       False          False\n",
       "13  False       False          False\n",
       "14  False       False          False\n",
       "15  False       False          False\n",
       "16  False       False          False\n",
       "17  False       False          False\n",
       "18  False       False          False\n",
       "19  False       False          False\n",
       "20  False       False          False\n",
       "21  False       False          False\n",
       "22  False       False          False\n",
       "23  False       False          False\n",
       "24  False       False          False"
      ]
     },
     "execution_count": 3,
     "metadata": {},
     "output_type": "execute_result"
    }
   ],
   "source": [
    "data.isnull() "
   ]
  },
  {
   "cell_type": "markdown",
   "metadata": {},
   "source": [
    "# Filling the Missing values in the dataset"
   ]
  },
  {
   "cell_type": "code",
   "execution_count": 4,
   "metadata": {},
   "outputs": [
    {
     "name": "stdout",
     "output_type": "stream",
     "text": [
      "    Emp#  YearsOfExp  Salary in Rs.\n",
      "0      1          10         126015\n",
      "1      2           1          12598\n",
      "2      3           8         100639\n",
      "3      4          10         125351\n",
      "4      5           2          25031\n",
      "5      6           5          62630\n",
      "6      7           9         112620\n",
      "7      8           8         100639\n",
      "8      9           4          50145\n",
      "9     10           2          25232\n",
      "10    11           9         112770\n",
      "11    12           3          37512\n",
      "12    13           4          50274\n",
      "13    14           5          62768\n",
      "14    15          10         125363\n",
      "15    16           2          25226\n",
      "16    17           6          75392\n",
      "17    18           7          87779\n",
      "18    19           7          87654\n",
      "19    20           3          37592\n",
      "20    21          10         125186\n",
      "21    22           2          25187\n",
      "22    23           9         113309\n",
      "23    24           9         113112\n",
      "24    25          10         125506\n"
     ]
    }
   ],
   "source": [
    "#filling the missing values of the dataset\n",
    "data=data.fillna(100)\n",
    "print(data)"
   ]
  },
  {
   "cell_type": "markdown",
   "metadata": {},
   "source": [
    "# Implement the Normalization - preprocessing technique"
   ]
  },
  {
   "cell_type": "code",
   "execution_count": 27,
   "metadata": {},
   "outputs": [
    {
     "name": "stdout",
     "output_type": "stream",
     "text": [
      "[[  1.00000000e+01   1.26015000e+05]\n",
      " [  1.00000000e+00   1.25980000e+04]\n",
      " [  8.00000000e+00   1.00639000e+05]\n",
      " [  1.00000000e+01   1.25351000e+05]\n",
      " [  2.00000000e+00   2.50310000e+04]\n",
      " [  5.00000000e+00   6.26300000e+04]\n",
      " [  9.00000000e+00   1.12620000e+05]\n",
      " [  8.00000000e+00   1.00639000e+05]\n",
      " [  4.00000000e+00   5.01450000e+04]\n",
      " [  2.00000000e+00   2.52320000e+04]\n",
      " [  9.00000000e+00   1.12770000e+05]\n",
      " [  3.00000000e+00   3.75120000e+04]\n",
      " [  4.00000000e+00   5.02740000e+04]\n",
      " [  5.00000000e+00   6.27680000e+04]\n",
      " [  1.00000000e+01   1.25363000e+05]\n",
      " [  2.00000000e+00   2.52260000e+04]\n",
      " [  6.00000000e+00   7.53920000e+04]\n",
      " [  7.00000000e+00   8.77790000e+04]\n",
      " [  7.00000000e+00   8.76540000e+04]\n",
      " [  3.00000000e+00   3.75920000e+04]\n",
      " [  1.00000000e+01   1.25186000e+05]\n",
      " [  2.00000000e+00   2.51870000e+04]\n",
      " [  9.00000000e+00   1.13309000e+05]\n",
      " [  9.00000000e+00   1.13112000e+05]\n",
      " [  1.00000000e+01   1.25506000e+05]\n",
      " [  1.00000000e+02   1.00000000e+02]\n",
      " [  1.00000000e+02   1.00000000e+02]\n",
      " [  1.00000000e+02   1.00000000e+02]\n",
      " [  1.00000000e+01   1.32567000e+05]]\n"
     ]
    }
   ],
   "source": [
    "#Normalization- It is a Data Transformation technique. The process of the transforming the data into a smaller representation \n",
    "#to fall within the range of smaller values without altering the originality of the data.\n",
    "#first Convert the dataFrame into numpy array using values function.\n",
    "arr=data.values\n",
    "print(arr)\n",
    "#use the MinMaxScaler of the sklearn.preprocessing to normalize the data to fall between 0,1\n",
    "from sklearn.preprocessing import MinMaxScaler\n",
    "scaler = MinMaxScaler(feature_range=(0,1))\n",
    "rescaledX = scaler.fit_transform(arr)"
   ]
  },
  {
   "cell_type": "code",
   "execution_count": 28,
   "metadata": {},
   "outputs": [
    {
     "name": "stdout",
     "output_type": "stream",
     "text": [
      "[[ 0.09090909  0.95053862]\n",
      " [ 0.          0.09434803]\n",
      " [ 0.07070707  0.75897393]\n",
      " [ 0.09090909  0.94552606]\n",
      " [ 0.01010101  0.18820536]\n",
      " [ 0.04040404  0.47204209]\n",
      " [ 0.08080808  0.8494191 ]\n",
      " [ 0.07070707  0.75897393]\n",
      " [ 0.03030303  0.3777922 ]\n",
      " [ 0.01010101  0.18972272]\n",
      " [ 0.08080808  0.85055146]\n",
      " [ 0.02020202  0.28242506]\n",
      " [ 0.03030303  0.37876603]\n",
      " [ 0.04040404  0.47308386]\n",
      " [ 0.09090909  0.94561664]\n",
      " [ 0.01010101  0.18967743]\n",
      " [ 0.05050505  0.56838307]\n",
      " [ 0.06060606  0.66189315]\n",
      " [ 0.06060606  0.66094952]\n",
      " [ 0.02020202  0.28302898]\n",
      " [ 0.09090909  0.94428046]\n",
      " [ 0.01010101  0.18938302]\n",
      " [ 0.08080808  0.8546204 ]\n",
      " [ 0.08080808  0.85313323]\n",
      " [ 0.09090909  0.94669616]\n",
      " [ 1.          0.        ]\n",
      " [ 1.          0.        ]\n",
      " [ 1.          0.        ]\n",
      " [ 0.09090909  1.        ]]\n"
     ]
    }
   ],
   "source": [
    "#print the normalized values\n",
    "print(rescaledX)"
   ]
  },
  {
   "cell_type": "markdown",
   "metadata": {},
   "source": [
    "# Normalizing Only selected columns- Here normalizing  First column using reshape(-1,1)"
   ]
  },
  {
   "cell_type": "code",
   "execution_count": 52,
   "metadata": {},
   "outputs": [
    {
     "name": "stdout",
     "output_type": "stream",
     "text": [
      "[[ 0.09090909]\n",
      " [ 0.        ]\n",
      " [ 0.07070707]\n",
      " [ 0.09090909]\n",
      " [ 0.01010101]\n",
      " [ 0.04040404]\n",
      " [ 0.08080808]\n",
      " [ 0.07070707]\n",
      " [ 0.03030303]\n",
      " [ 0.01010101]\n",
      " [ 0.08080808]\n",
      " [ 0.02020202]\n",
      " [ 0.03030303]\n",
      " [ 0.04040404]\n",
      " [ 0.09090909]\n",
      " [ 0.01010101]\n",
      " [ 0.05050505]\n",
      " [ 0.06060606]\n",
      " [ 0.06060606]\n",
      " [ 0.02020202]\n",
      " [ 0.09090909]\n",
      " [ 0.01010101]\n",
      " [ 0.08080808]\n",
      " [ 0.08080808]\n",
      " [ 0.09090909]\n",
      " [ 1.        ]\n",
      " [ 1.        ]\n",
      " [ 1.        ]\n",
      " [ 0.09090909]]\n"
     ]
    }
   ],
   "source": [
    "rescaledX = scaler.fit_transform(arr[:,0].reshape(-1,1))\n",
    "print(rescaledX)"
   ]
  },
  {
   "cell_type": "markdown",
   "metadata": {
    "collapsed": true
   },
   "source": [
    "# Implement the Standardization pre processing technique"
   ]
  },
  {
   "cell_type": "code",
   "execution_count": 29,
   "metadata": {},
   "outputs": [
    {
     "name": "stdout",
     "output_type": "stream",
     "text": [
      "[[-0.21043719  1.21386587]\n",
      " [-0.52428922 -1.31939649]\n",
      " [-0.28018208  0.64707196]\n",
      " [-0.21043719  1.19903488]\n",
      " [-0.48941677 -1.04169517]\n",
      " [-0.38479943 -0.20189045]\n",
      " [-0.24530964  0.91467749]\n",
      " [-0.28018208  0.64707196]\n",
      " [-0.41967188 -0.48075323]\n",
      " [-0.48941677 -1.03720566]\n",
      " [-0.24530964  0.91802786]\n",
      " [-0.45454432 -0.76292172]\n",
      " [-0.41967188 -0.47787191]\n",
      " [-0.38479943 -0.19880811]\n",
      " [-0.21043719  1.19930291]\n",
      " [-0.48941677 -1.03733968]\n",
      " [-0.34992698  0.08315936]\n",
      " [-0.31505453  0.35983324]\n",
      " [-0.31505453  0.35704126]\n",
      " [-0.45454432 -0.76113486]\n",
      " [-0.21043719  1.19534947]\n",
      " [-0.48941677 -1.03821078]\n",
      " [-0.24530964  0.93006687]\n",
      " [-0.24530964  0.92566671]\n",
      " [-0.21043719  1.20249694]\n",
      " [ 2.92808315 -1.59854964]\n",
      " [ 2.92808315 -1.59854964]\n",
      " [ 2.92808315 -1.59854964]\n",
      " [-0.21043719  1.3602102 ]]\n"
     ]
    }
   ],
   "source": [
    "#Standardization- It is a Data Transformation technique such that Mean of the attributes values becomes zero \n",
    "#and its standard deviation becomes 1\n",
    "# Use scale function to im[plement the same\n",
    "from sklearn import preprocessing\n",
    "y_scaled = preprocessing.scale(arr)\n",
    "print(y_scaled)"
   ]
  },
  {
   "cell_type": "code",
   "execution_count": 31,
   "metadata": {},
   "outputs": [
    {
     "name": "stdout",
     "output_type": "stream",
     "text": [
      "-1.30164078749e-16\n",
      "-5.35969736026e-17\n",
      "1.0\n",
      "1.0\n"
     ]
    }
   ],
   "source": [
    "#Below code is used to cross verfiy the above standardization function using numpy mean and stadard deviation function\n",
    "print(y_scaled[:,0].mean())\n",
    "print(y_scaled[:,1].mean())\n",
    "print(y_scaled[:,0].std())\n",
    "print(y_scaled[:,1].std())"
   ]
  },
  {
   "cell_type": "markdown",
   "metadata": {},
   "source": [
    "# Standardization of Only selected column. Here Standardizing the second column"
   ]
  },
  {
   "cell_type": "code",
   "execution_count": 55,
   "metadata": {},
   "outputs": [
    {
     "name": "stdout",
     "output_type": "stream",
     "text": [
      "[[ 1.21386587]\n",
      " [-1.31939649]\n",
      " [ 0.64707196]\n",
      " [ 1.19903488]\n",
      " [-1.04169517]\n",
      " [-0.20189045]\n",
      " [ 0.91467749]\n",
      " [ 0.64707196]\n",
      " [-0.48075323]\n",
      " [-1.03720566]\n",
      " [ 0.91802786]\n",
      " [-0.76292172]\n",
      " [-0.47787191]\n",
      " [-0.19880811]\n",
      " [ 1.19930291]\n",
      " [-1.03733968]\n",
      " [ 0.08315936]\n",
      " [ 0.35983324]\n",
      " [ 0.35704126]\n",
      " [-0.76113486]\n",
      " [ 1.19534947]\n",
      " [-1.03821078]\n",
      " [ 0.93006687]\n",
      " [ 0.92566671]\n",
      " [ 1.20249694]\n",
      " [-1.59854964]\n",
      " [-1.59854964]\n",
      " [-1.59854964]\n",
      " [ 1.3602102 ]]\n"
     ]
    }
   ],
   "source": [
    "y_scaled = preprocessing.scale(arr[:,1].reshape(-1,1))\n",
    "print(y_scaled)"
   ]
  },
  {
   "cell_type": "markdown",
   "metadata": {},
   "source": [
    "# Binarization of the entire dataset"
   ]
  },
  {
   "cell_type": "code",
   "execution_count": 56,
   "metadata": {},
   "outputs": [
    {
     "name": "stdout",
     "output_type": "stream",
     "text": [
      "\n",
      "Binarized data = [[ 1.  1.]\n",
      " [ 0.  1.]\n",
      " [ 1.  1.]\n",
      " [ 1.  1.]\n",
      " [ 1.  1.]\n",
      " [ 1.  1.]\n",
      " [ 1.  1.]\n",
      " [ 1.  1.]\n",
      " [ 1.  1.]\n",
      " [ 1.  1.]\n",
      " [ 1.  1.]\n",
      " [ 1.  1.]\n",
      " [ 1.  1.]\n",
      " [ 1.  1.]\n",
      " [ 1.  1.]\n",
      " [ 1.  1.]\n",
      " [ 1.  1.]\n",
      " [ 1.  1.]\n",
      " [ 1.  1.]\n",
      " [ 1.  1.]\n",
      " [ 1.  1.]\n",
      " [ 1.  1.]\n",
      " [ 1.  1.]\n",
      " [ 1.  1.]\n",
      " [ 1.  1.]\n",
      " [ 1.  1.]\n",
      " [ 1.  1.]\n",
      " [ 1.  1.]\n",
      " [ 1.  1.]]\n"
     ]
    }
   ],
   "source": [
    "#Binarization converts the given into a dataset of 0's and 1's depending on the value of threshold.\n",
    "data_binarized= preprocessing.Binarizer(threshold=1).transform(arr)\n",
    "print (\"\\nBinarized data =\", data_binarized)"
   ]
  },
  {
   "cell_type": "markdown",
   "metadata": {},
   "source": [
    "# Binarization of Only perticular Column of the dataset. Here binarizing the second column using reshape function."
   ]
  },
  {
   "cell_type": "code",
   "execution_count": 57,
   "metadata": {},
   "outputs": [
    {
     "name": "stdout",
     "output_type": "stream",
     "text": [
      "[[ 1.]\n",
      " [ 1.]\n",
      " [ 1.]\n",
      " [ 1.]\n",
      " [ 1.]\n",
      " [ 1.]\n",
      " [ 1.]\n",
      " [ 1.]\n",
      " [ 1.]\n",
      " [ 1.]\n",
      " [ 1.]\n",
      " [ 1.]\n",
      " [ 1.]\n",
      " [ 1.]\n",
      " [ 1.]\n",
      " [ 1.]\n",
      " [ 1.]\n",
      " [ 1.]\n",
      " [ 1.]\n",
      " [ 1.]\n",
      " [ 1.]\n",
      " [ 1.]\n",
      " [ 1.]\n",
      " [ 1.]\n",
      " [ 1.]\n",
      " [ 1.]\n",
      " [ 1.]\n",
      " [ 1.]\n",
      " [ 1.]]\n"
     ]
    }
   ],
   "source": [
    "data_binarized= preprocessing.Binarizer(threshold=1).transform(arr[:,1].reshape(-1,1))\n",
    "print(data_binarized)"
   ]
  },
  {
   "cell_type": "code",
   "execution_count": null,
   "metadata": {
    "collapsed": true
   },
   "outputs": [],
   "source": []
  }
 ],
 "metadata": {
  "kernelspec": {
   "display_name": "Python 3",
   "language": "python",
   "name": "python3"
  },
  "language_info": {
   "codemirror_mode": {
    "name": "ipython",
    "version": 3
   },
   "file_extension": ".py",
   "mimetype": "text/x-python",
   "name": "python",
   "nbconvert_exporter": "python",
   "pygments_lexer": "ipython3",
   "version": "3.8.3"
  }
 },
 "nbformat": 4,
 "nbformat_minor": 2
}
