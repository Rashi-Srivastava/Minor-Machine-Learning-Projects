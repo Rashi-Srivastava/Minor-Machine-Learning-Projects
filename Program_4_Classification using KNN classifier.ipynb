{
 "cells": [
  {
   "cell_type": "markdown",
   "metadata": {},
   "source": [
    "# Program 4 - Implement Classification technique using KNN classifier"
   ]
  },
  {
   "cell_type": "code",
   "execution_count": 1,
   "metadata": {},
   "outputs": [],
   "source": [
    "import pandas as pd\n",
    "import numpy as np"
   ]
  },
  {
   "cell_type": "code",
   "execution_count": 2,
   "metadata": {},
   "outputs": [],
   "source": [
    "dataset = pd.read_csv(r'/home/rashi/Documents/ML_Programs/Iris.csv')"
   ]
  },
  {
   "cell_type": "code",
   "execution_count": 4,
   "metadata": {},
   "outputs": [
    {
     "name": "stdout",
     "output_type": "stream",
     "text": [
      "(150, 6)\n",
      "   Id  SepalLengthCm  SepalWidthCm  PetalLengthCm  PetalWidthCm      Species\n",
      "0   1            5.1           3.5            1.4           0.2  Iris-setosa\n",
      "1   2            4.9           3.0            1.4           0.2  Iris-setosa\n",
      "2   3            4.7           3.2            1.3           0.2  Iris-setosa\n",
      "3   4            4.6           3.1            1.5           0.2  Iris-setosa\n",
      "4   5            5.0           3.6            1.4           0.2  Iris-setosa\n",
      "               Id  SepalLengthCm  SepalWidthCm  PetalLengthCm  PetalWidthCm\n",
      "count  150.000000     150.000000    150.000000     150.000000    150.000000\n",
      "mean    75.500000       5.843333      3.054000       3.758667      1.198667\n",
      "std     43.445368       0.828066      0.433594       1.764420      0.763161\n",
      "min      1.000000       4.300000      2.000000       1.000000      0.100000\n",
      "25%     38.250000       5.100000      2.800000       1.600000      0.300000\n",
      "50%     75.500000       5.800000      3.000000       4.350000      1.300000\n",
      "75%    112.750000       6.400000      3.300000       5.100000      1.800000\n",
      "max    150.000000       7.900000      4.400000       6.900000      2.500000\n",
      "Species\n",
      "Iris-setosa        50\n",
      "Iris-versicolor    50\n",
      "Iris-virginica     50\n",
      "dtype: int64\n"
     ]
    }
   ],
   "source": [
    "# shape\n",
    "print(dataset.shape)\n",
    "# 3.2 peak at the data \n",
    "#head\n",
    "print(dataset.head(5))\n",
    "#3.3 Statistical summary\n",
    "# descriptions\n",
    "print(dataset.describe())\n",
    "#3.4 class distribution\n",
    "print(dataset.groupby('Species').size())"
   ]
  },
  {
   "cell_type": "code",
   "execution_count": 5,
   "metadata": {},
   "outputs": [
    {
     "name": "stdout",
     "output_type": "stream",
     "text": [
      "[[1.00e+00 5.10e+00 3.50e+00 1.40e+00 2.00e-01]\n",
      " [2.00e+00 4.90e+00 3.00e+00 1.40e+00 2.00e-01]\n",
      " [3.00e+00 4.70e+00 3.20e+00 1.30e+00 2.00e-01]\n",
      " [4.00e+00 4.60e+00 3.10e+00 1.50e+00 2.00e-01]\n",
      " [5.00e+00 5.00e+00 3.60e+00 1.40e+00 2.00e-01]\n",
      " [6.00e+00 5.40e+00 3.90e+00 1.70e+00 4.00e-01]\n",
      " [7.00e+00 4.60e+00 3.40e+00 1.40e+00 3.00e-01]\n",
      " [8.00e+00 5.00e+00 3.40e+00 1.50e+00 2.00e-01]\n",
      " [9.00e+00 4.40e+00 2.90e+00 1.40e+00 2.00e-01]\n",
      " [1.00e+01 4.90e+00 3.10e+00 1.50e+00 1.00e-01]\n",
      " [1.10e+01 5.40e+00 3.70e+00 1.50e+00 2.00e-01]\n",
      " [1.20e+01 4.80e+00 3.40e+00 1.60e+00 2.00e-01]\n",
      " [1.30e+01 4.80e+00 3.00e+00 1.40e+00 1.00e-01]\n",
      " [1.40e+01 4.30e+00 3.00e+00 1.10e+00 1.00e-01]\n",
      " [1.50e+01 5.80e+00 4.00e+00 1.20e+00 2.00e-01]\n",
      " [1.60e+01 5.70e+00 4.40e+00 1.50e+00 4.00e-01]\n",
      " [1.70e+01 5.40e+00 3.90e+00 1.30e+00 4.00e-01]\n",
      " [1.80e+01 5.10e+00 3.50e+00 1.40e+00 3.00e-01]\n",
      " [1.90e+01 5.70e+00 3.80e+00 1.70e+00 3.00e-01]\n",
      " [2.00e+01 5.10e+00 3.80e+00 1.50e+00 3.00e-01]\n",
      " [2.10e+01 5.40e+00 3.40e+00 1.70e+00 2.00e-01]\n",
      " [2.20e+01 5.10e+00 3.70e+00 1.50e+00 4.00e-01]\n",
      " [2.30e+01 4.60e+00 3.60e+00 1.00e+00 2.00e-01]\n",
      " [2.40e+01 5.10e+00 3.30e+00 1.70e+00 5.00e-01]\n",
      " [2.50e+01 4.80e+00 3.40e+00 1.90e+00 2.00e-01]\n",
      " [2.60e+01 5.00e+00 3.00e+00 1.60e+00 2.00e-01]\n",
      " [2.70e+01 5.00e+00 3.40e+00 1.60e+00 4.00e-01]\n",
      " [2.80e+01 5.20e+00 3.50e+00 1.50e+00 2.00e-01]\n",
      " [2.90e+01 5.20e+00 3.40e+00 1.40e+00 2.00e-01]\n",
      " [3.00e+01 4.70e+00 3.20e+00 1.60e+00 2.00e-01]\n",
      " [3.10e+01 4.80e+00 3.10e+00 1.60e+00 2.00e-01]\n",
      " [3.20e+01 5.40e+00 3.40e+00 1.50e+00 4.00e-01]\n",
      " [3.30e+01 5.20e+00 4.10e+00 1.50e+00 1.00e-01]\n",
      " [3.40e+01 5.50e+00 4.20e+00 1.40e+00 2.00e-01]\n",
      " [3.50e+01 4.90e+00 3.10e+00 1.50e+00 1.00e-01]\n",
      " [3.60e+01 5.00e+00 3.20e+00 1.20e+00 2.00e-01]\n",
      " [3.70e+01 5.50e+00 3.50e+00 1.30e+00 2.00e-01]\n",
      " [3.80e+01 4.90e+00 3.10e+00 1.50e+00 1.00e-01]\n",
      " [3.90e+01 4.40e+00 3.00e+00 1.30e+00 2.00e-01]\n",
      " [4.00e+01 5.10e+00 3.40e+00 1.50e+00 2.00e-01]\n",
      " [4.10e+01 5.00e+00 3.50e+00 1.30e+00 3.00e-01]\n",
      " [4.20e+01 4.50e+00 2.30e+00 1.30e+00 3.00e-01]\n",
      " [4.30e+01 4.40e+00 3.20e+00 1.30e+00 2.00e-01]\n",
      " [4.40e+01 5.00e+00 3.50e+00 1.60e+00 6.00e-01]\n",
      " [4.50e+01 5.10e+00 3.80e+00 1.90e+00 4.00e-01]\n",
      " [4.60e+01 4.80e+00 3.00e+00 1.40e+00 3.00e-01]\n",
      " [4.70e+01 5.10e+00 3.80e+00 1.60e+00 2.00e-01]\n",
      " [4.80e+01 4.60e+00 3.20e+00 1.40e+00 2.00e-01]\n",
      " [4.90e+01 5.30e+00 3.70e+00 1.50e+00 2.00e-01]\n",
      " [5.00e+01 5.00e+00 3.30e+00 1.40e+00 2.00e-01]\n",
      " [5.10e+01 7.00e+00 3.20e+00 4.70e+00 1.40e+00]\n",
      " [5.20e+01 6.40e+00 3.20e+00 4.50e+00 1.50e+00]\n",
      " [5.30e+01 6.90e+00 3.10e+00 4.90e+00 1.50e+00]\n",
      " [5.40e+01 5.50e+00 2.30e+00 4.00e+00 1.30e+00]\n",
      " [5.50e+01 6.50e+00 2.80e+00 4.60e+00 1.50e+00]\n",
      " [5.60e+01 5.70e+00 2.80e+00 4.50e+00 1.30e+00]\n",
      " [5.70e+01 6.30e+00 3.30e+00 4.70e+00 1.60e+00]\n",
      " [5.80e+01 4.90e+00 2.40e+00 3.30e+00 1.00e+00]\n",
      " [5.90e+01 6.60e+00 2.90e+00 4.60e+00 1.30e+00]\n",
      " [6.00e+01 5.20e+00 2.70e+00 3.90e+00 1.40e+00]\n",
      " [6.10e+01 5.00e+00 2.00e+00 3.50e+00 1.00e+00]\n",
      " [6.20e+01 5.90e+00 3.00e+00 4.20e+00 1.50e+00]\n",
      " [6.30e+01 6.00e+00 2.20e+00 4.00e+00 1.00e+00]\n",
      " [6.40e+01 6.10e+00 2.90e+00 4.70e+00 1.40e+00]\n",
      " [6.50e+01 5.60e+00 2.90e+00 3.60e+00 1.30e+00]\n",
      " [6.60e+01 6.70e+00 3.10e+00 4.40e+00 1.40e+00]\n",
      " [6.70e+01 5.60e+00 3.00e+00 4.50e+00 1.50e+00]\n",
      " [6.80e+01 5.80e+00 2.70e+00 4.10e+00 1.00e+00]\n",
      " [6.90e+01 6.20e+00 2.20e+00 4.50e+00 1.50e+00]\n",
      " [7.00e+01 5.60e+00 2.50e+00 3.90e+00 1.10e+00]\n",
      " [7.10e+01 5.90e+00 3.20e+00 4.80e+00 1.80e+00]\n",
      " [7.20e+01 6.10e+00 2.80e+00 4.00e+00 1.30e+00]\n",
      " [7.30e+01 6.30e+00 2.50e+00 4.90e+00 1.50e+00]\n",
      " [7.40e+01 6.10e+00 2.80e+00 4.70e+00 1.20e+00]\n",
      " [7.50e+01 6.40e+00 2.90e+00 4.30e+00 1.30e+00]\n",
      " [7.60e+01 6.60e+00 3.00e+00 4.40e+00 1.40e+00]\n",
      " [7.70e+01 6.80e+00 2.80e+00 4.80e+00 1.40e+00]\n",
      " [7.80e+01 6.70e+00 3.00e+00 5.00e+00 1.70e+00]\n",
      " [7.90e+01 6.00e+00 2.90e+00 4.50e+00 1.50e+00]\n",
      " [8.00e+01 5.70e+00 2.60e+00 3.50e+00 1.00e+00]\n",
      " [8.10e+01 5.50e+00 2.40e+00 3.80e+00 1.10e+00]\n",
      " [8.20e+01 5.50e+00 2.40e+00 3.70e+00 1.00e+00]\n",
      " [8.30e+01 5.80e+00 2.70e+00 3.90e+00 1.20e+00]\n",
      " [8.40e+01 6.00e+00 2.70e+00 5.10e+00 1.60e+00]\n",
      " [8.50e+01 5.40e+00 3.00e+00 4.50e+00 1.50e+00]\n",
      " [8.60e+01 6.00e+00 3.40e+00 4.50e+00 1.60e+00]\n",
      " [8.70e+01 6.70e+00 3.10e+00 4.70e+00 1.50e+00]\n",
      " [8.80e+01 6.30e+00 2.30e+00 4.40e+00 1.30e+00]\n",
      " [8.90e+01 5.60e+00 3.00e+00 4.10e+00 1.30e+00]\n",
      " [9.00e+01 5.50e+00 2.50e+00 4.00e+00 1.30e+00]\n",
      " [9.10e+01 5.50e+00 2.60e+00 4.40e+00 1.20e+00]\n",
      " [9.20e+01 6.10e+00 3.00e+00 4.60e+00 1.40e+00]\n",
      " [9.30e+01 5.80e+00 2.60e+00 4.00e+00 1.20e+00]\n",
      " [9.40e+01 5.00e+00 2.30e+00 3.30e+00 1.00e+00]\n",
      " [9.50e+01 5.60e+00 2.70e+00 4.20e+00 1.30e+00]\n",
      " [9.60e+01 5.70e+00 3.00e+00 4.20e+00 1.20e+00]\n",
      " [9.70e+01 5.70e+00 2.90e+00 4.20e+00 1.30e+00]\n",
      " [9.80e+01 6.20e+00 2.90e+00 4.30e+00 1.30e+00]\n",
      " [9.90e+01 5.10e+00 2.50e+00 3.00e+00 1.10e+00]\n",
      " [1.00e+02 5.70e+00 2.80e+00 4.10e+00 1.30e+00]\n",
      " [1.01e+02 6.30e+00 3.30e+00 6.00e+00 2.50e+00]\n",
      " [1.02e+02 5.80e+00 2.70e+00 5.10e+00 1.90e+00]\n",
      " [1.03e+02 7.10e+00 3.00e+00 5.90e+00 2.10e+00]\n",
      " [1.04e+02 6.30e+00 2.90e+00 5.60e+00 1.80e+00]\n",
      " [1.05e+02 6.50e+00 3.00e+00 5.80e+00 2.20e+00]\n",
      " [1.06e+02 7.60e+00 3.00e+00 6.60e+00 2.10e+00]\n",
      " [1.07e+02 4.90e+00 2.50e+00 4.50e+00 1.70e+00]\n",
      " [1.08e+02 7.30e+00 2.90e+00 6.30e+00 1.80e+00]\n",
      " [1.09e+02 6.70e+00 2.50e+00 5.80e+00 1.80e+00]\n",
      " [1.10e+02 7.20e+00 3.60e+00 6.10e+00 2.50e+00]\n",
      " [1.11e+02 6.50e+00 3.20e+00 5.10e+00 2.00e+00]\n",
      " [1.12e+02 6.40e+00 2.70e+00 5.30e+00 1.90e+00]\n",
      " [1.13e+02 6.80e+00 3.00e+00 5.50e+00 2.10e+00]\n",
      " [1.14e+02 5.70e+00 2.50e+00 5.00e+00 2.00e+00]\n",
      " [1.15e+02 5.80e+00 2.80e+00 5.10e+00 2.40e+00]\n",
      " [1.16e+02 6.40e+00 3.20e+00 5.30e+00 2.30e+00]\n",
      " [1.17e+02 6.50e+00 3.00e+00 5.50e+00 1.80e+00]\n",
      " [1.18e+02 7.70e+00 3.80e+00 6.70e+00 2.20e+00]\n",
      " [1.19e+02 7.70e+00 2.60e+00 6.90e+00 2.30e+00]\n",
      " [1.20e+02 6.00e+00 2.20e+00 5.00e+00 1.50e+00]\n",
      " [1.21e+02 6.90e+00 3.20e+00 5.70e+00 2.30e+00]\n",
      " [1.22e+02 5.60e+00 2.80e+00 4.90e+00 2.00e+00]\n",
      " [1.23e+02 7.70e+00 2.80e+00 6.70e+00 2.00e+00]\n",
      " [1.24e+02 6.30e+00 2.70e+00 4.90e+00 1.80e+00]\n",
      " [1.25e+02 6.70e+00 3.30e+00 5.70e+00 2.10e+00]\n",
      " [1.26e+02 7.20e+00 3.20e+00 6.00e+00 1.80e+00]\n",
      " [1.27e+02 6.20e+00 2.80e+00 4.80e+00 1.80e+00]\n",
      " [1.28e+02 6.10e+00 3.00e+00 4.90e+00 1.80e+00]\n",
      " [1.29e+02 6.40e+00 2.80e+00 5.60e+00 2.10e+00]\n",
      " [1.30e+02 7.20e+00 3.00e+00 5.80e+00 1.60e+00]\n",
      " [1.31e+02 7.40e+00 2.80e+00 6.10e+00 1.90e+00]\n",
      " [1.32e+02 7.90e+00 3.80e+00 6.40e+00 2.00e+00]\n",
      " [1.33e+02 6.40e+00 2.80e+00 5.60e+00 2.20e+00]\n",
      " [1.34e+02 6.30e+00 2.80e+00 5.10e+00 1.50e+00]\n",
      " [1.35e+02 6.10e+00 2.60e+00 5.60e+00 1.40e+00]\n",
      " [1.36e+02 7.70e+00 3.00e+00 6.10e+00 2.30e+00]\n",
      " [1.37e+02 6.30e+00 3.40e+00 5.60e+00 2.40e+00]\n",
      " [1.38e+02 6.40e+00 3.10e+00 5.50e+00 1.80e+00]\n",
      " [1.39e+02 6.00e+00 3.00e+00 4.80e+00 1.80e+00]\n",
      " [1.40e+02 6.90e+00 3.10e+00 5.40e+00 2.10e+00]\n",
      " [1.41e+02 6.70e+00 3.10e+00 5.60e+00 2.40e+00]\n",
      " [1.42e+02 6.90e+00 3.10e+00 5.10e+00 2.30e+00]\n",
      " [1.43e+02 5.80e+00 2.70e+00 5.10e+00 1.90e+00]\n",
      " [1.44e+02 6.80e+00 3.20e+00 5.90e+00 2.30e+00]\n",
      " [1.45e+02 6.70e+00 3.30e+00 5.70e+00 2.50e+00]\n",
      " [1.46e+02 6.70e+00 3.00e+00 5.20e+00 2.30e+00]\n",
      " [1.47e+02 6.30e+00 2.50e+00 5.00e+00 1.90e+00]\n",
      " [1.48e+02 6.50e+00 3.00e+00 5.20e+00 2.00e+00]\n",
      " [1.49e+02 6.20e+00 3.40e+00 5.40e+00 2.30e+00]\n",
      " [1.50e+02 5.90e+00 3.00e+00 5.10e+00 1.80e+00]]\n",
      "['Iris-setosa' 'Iris-setosa' 'Iris-setosa' 'Iris-setosa' 'Iris-setosa'\n",
      " 'Iris-setosa' 'Iris-setosa' 'Iris-setosa' 'Iris-setosa' 'Iris-setosa'\n",
      " 'Iris-setosa' 'Iris-setosa' 'Iris-setosa' 'Iris-setosa' 'Iris-setosa'\n",
      " 'Iris-setosa' 'Iris-setosa' 'Iris-setosa' 'Iris-setosa' 'Iris-setosa'\n",
      " 'Iris-setosa' 'Iris-setosa' 'Iris-setosa' 'Iris-setosa' 'Iris-setosa'\n",
      " 'Iris-setosa' 'Iris-setosa' 'Iris-setosa' 'Iris-setosa' 'Iris-setosa'\n",
      " 'Iris-setosa' 'Iris-setosa' 'Iris-setosa' 'Iris-setosa' 'Iris-setosa'\n",
      " 'Iris-setosa' 'Iris-setosa' 'Iris-setosa' 'Iris-setosa' 'Iris-setosa'\n",
      " 'Iris-setosa' 'Iris-setosa' 'Iris-setosa' 'Iris-setosa' 'Iris-setosa'\n",
      " 'Iris-setosa' 'Iris-setosa' 'Iris-setosa' 'Iris-setosa' 'Iris-setosa'\n",
      " 'Iris-versicolor' 'Iris-versicolor' 'Iris-versicolor' 'Iris-versicolor'\n",
      " 'Iris-versicolor' 'Iris-versicolor' 'Iris-versicolor' 'Iris-versicolor'\n",
      " 'Iris-versicolor' 'Iris-versicolor' 'Iris-versicolor' 'Iris-versicolor'\n",
      " 'Iris-versicolor' 'Iris-versicolor' 'Iris-versicolor' 'Iris-versicolor'\n",
      " 'Iris-versicolor' 'Iris-versicolor' 'Iris-versicolor' 'Iris-versicolor'\n",
      " 'Iris-versicolor' 'Iris-versicolor' 'Iris-versicolor' 'Iris-versicolor'\n",
      " 'Iris-versicolor' 'Iris-versicolor' 'Iris-versicolor' 'Iris-versicolor'\n",
      " 'Iris-versicolor' 'Iris-versicolor' 'Iris-versicolor' 'Iris-versicolor'\n",
      " 'Iris-versicolor' 'Iris-versicolor' 'Iris-versicolor' 'Iris-versicolor'\n",
      " 'Iris-versicolor' 'Iris-versicolor' 'Iris-versicolor' 'Iris-versicolor'\n",
      " 'Iris-versicolor' 'Iris-versicolor' 'Iris-versicolor' 'Iris-versicolor'\n",
      " 'Iris-versicolor' 'Iris-versicolor' 'Iris-versicolor' 'Iris-versicolor'\n",
      " 'Iris-versicolor' 'Iris-versicolor' 'Iris-virginica' 'Iris-virginica'\n",
      " 'Iris-virginica' 'Iris-virginica' 'Iris-virginica' 'Iris-virginica'\n",
      " 'Iris-virginica' 'Iris-virginica' 'Iris-virginica' 'Iris-virginica'\n",
      " 'Iris-virginica' 'Iris-virginica' 'Iris-virginica' 'Iris-virginica'\n",
      " 'Iris-virginica' 'Iris-virginica' 'Iris-virginica' 'Iris-virginica'\n",
      " 'Iris-virginica' 'Iris-virginica' 'Iris-virginica' 'Iris-virginica'\n",
      " 'Iris-virginica' 'Iris-virginica' 'Iris-virginica' 'Iris-virginica'\n",
      " 'Iris-virginica' 'Iris-virginica' 'Iris-virginica' 'Iris-virginica'\n",
      " 'Iris-virginica' 'Iris-virginica' 'Iris-virginica' 'Iris-virginica'\n",
      " 'Iris-virginica' 'Iris-virginica' 'Iris-virginica' 'Iris-virginica'\n",
      " 'Iris-virginica' 'Iris-virginica' 'Iris-virginica' 'Iris-virginica'\n",
      " 'Iris-virginica' 'Iris-virginica' 'Iris-virginica' 'Iris-virginica'\n",
      " 'Iris-virginica' 'Iris-virginica' 'Iris-virginica' 'Iris-virginica']\n"
     ]
    }
   ],
   "source": [
    "X = np.array(dataset.drop(['Species'],1))\n",
    "print(X)\n",
    "Y=np.array(dataset['Species'])\n",
    "print(Y)"
   ]
  },
  {
   "cell_type": "markdown",
   "metadata": {},
   "source": [
    "# splitting the data into training and test data"
   ]
  },
  {
   "cell_type": "code",
   "execution_count": 6,
   "metadata": {},
   "outputs": [],
   "source": [
    "from sklearn import model_selection\n",
    "X_train, X_test, y_train, y_test = model_selection.train_test_split(X,Y,test_size=0.20)"
   ]
  },
  {
   "cell_type": "code",
   "execution_count": 7,
   "metadata": {},
   "outputs": [
    {
     "name": "stdout",
     "output_type": "stream",
     "text": [
      "120\n",
      "120\n",
      "30\n",
      "30\n"
     ]
    }
   ],
   "source": [
    "print(len(X_train))\n",
    "print(len(y_train))\n",
    "print(len(X_test))\n",
    "print(len(y_test))"
   ]
  },
  {
   "cell_type": "markdown",
   "metadata": {},
   "source": [
    "# Building the Classifier Model"
   ]
  },
  {
   "cell_type": "code",
   "execution_count": 8,
   "metadata": {},
   "outputs": [
    {
     "data": {
      "text/plain": [
       "KNeighborsClassifier()"
      ]
     },
     "execution_count": 8,
     "metadata": {},
     "output_type": "execute_result"
    }
   ],
   "source": [
    "from sklearn.neighbors import KNeighborsClassifier\n",
    "clf = KNeighborsClassifier()\n",
    "clf.fit(X_train, y_train)"
   ]
  },
  {
   "cell_type": "code",
   "execution_count": 9,
   "metadata": {},
   "outputs": [
    {
     "name": "stdout",
     "output_type": "stream",
     "text": [
      "['Iris-virginica' 'Iris-versicolor' 'Iris-versicolor' 'Iris-virginica'\n",
      " 'Iris-virginica' 'Iris-virginica' 'Iris-virginica' 'Iris-setosa'\n",
      " 'Iris-virginica' 'Iris-setosa' 'Iris-virginica' 'Iris-virginica'\n",
      " 'Iris-setosa' 'Iris-setosa' 'Iris-versicolor' 'Iris-virginica'\n",
      " 'Iris-virginica' 'Iris-setosa' 'Iris-versicolor' 'Iris-versicolor'\n",
      " 'Iris-versicolor' 'Iris-setosa' 'Iris-versicolor' 'Iris-versicolor'\n",
      " 'Iris-versicolor' 'Iris-virginica' 'Iris-setosa' 'Iris-versicolor'\n",
      " 'Iris-virginica' 'Iris-virginica']\n",
      "1.0\n",
      "1.0\n",
      "[[ 7  0  0]\n",
      " [ 0 10  0]\n",
      " [ 0  0 13]]\n"
     ]
    }
   ],
   "source": [
    "from sklearn.metrics import accuracy_score\n",
    "from sklearn.metrics import confusion_matrix\n",
    "predictions = clf.predict(X_test)\n",
    "print(predictions)\n",
    "print(accuracy_score(y_test, predictions))\n",
    "print(clf.score(X_test,y_test))\n",
    "#Below code print the confusion matrix\n",
    "print(confusion_matrix(y_test, predictions))"
   ]
  },
  {
   "cell_type": "code",
   "execution_count": null,
   "metadata": {
    "collapsed": true
   },
   "outputs": [],
   "source": []
  }
 ],
 "metadata": {
  "kernelspec": {
   "display_name": "Python 3",
   "language": "python",
   "name": "python3"
  },
  "language_info": {
   "codemirror_mode": {
    "name": "ipython",
    "version": 3
   },
   "file_extension": ".py",
   "mimetype": "text/x-python",
   "name": "python",
   "nbconvert_exporter": "python",
   "pygments_lexer": "ipython3",
   "version": "3.8.3"
  }
 },
 "nbformat": 4,
 "nbformat_minor": 2
}
