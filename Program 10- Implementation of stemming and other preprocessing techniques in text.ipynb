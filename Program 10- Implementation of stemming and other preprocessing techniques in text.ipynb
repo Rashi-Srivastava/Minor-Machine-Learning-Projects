{
 "cells": [
  {
   "cell_type": "markdown",
   "metadata": {},
   "source": [
    "# Program 10- Implementation of stemming and other preprocessing techniques in text"
   ]
  },
  {
   "cell_type": "code",
   "execution_count": 12,
   "metadata": {
    "collapsed": true
   },
   "outputs": [],
   "source": [
    "# implememt the Stemming operation using porter stemmer"
   ]
  },
  {
   "cell_type": "code",
   "execution_count": 13,
   "metadata": {
    "collapsed": true
   },
   "outputs": [],
   "source": [
    "import nltk\n",
    "from nltk.stem import PorterStemmer"
   ]
  },
  {
   "cell_type": "code",
   "execution_count": 14,
   "metadata": {},
   "outputs": [
    {
     "name": "stdout",
     "output_type": "stream",
     "text": [
      "python\n",
      "python\n",
      "python\n",
      "python\n",
      "pythonli\n",
      "wolv\n",
      "leav\n",
      "hors\n",
      "dog\n",
      "fairli\n",
      "comput\n",
      "comput\n",
      "comput\n",
      "comput\n"
     ]
    }
   ],
   "source": [
    "from nltk.stem import PorterStemmer\n",
    "ps = PorterStemmer()\n",
    "list_words = [\"python\",\"pythoner\",\"pythoning\",\"pythoned\",\"pythonly\",\"wolves\", \"leaves\",\"horses\",\"dogs\",\"fairly\",\"computer\",\"computing\", \"computers\",\"computation\"]\n",
    "for word in list_words:\n",
    "    print(ps.stem(word))"
   ]
  },
  {
   "cell_type": "code",
   "execution_count": 15,
   "metadata": {
    "scrolled": true
   },
   "outputs": [
    {
     "name": "stdout",
     "output_type": "stream",
     "text": [
      "python\n",
      "python\n",
      "python\n",
      "python\n",
      "python\n",
      "wolv\n",
      "leav\n",
      "hors\n",
      "dog\n",
      "fair\n",
      "comput\n",
      "comput\n",
      "comput\n",
      "comput\n"
     ]
    }
   ],
   "source": [
    "from nltk.stem import LancasterStemmer\n",
    "ps = LancasterStemmer()\n",
    "list_words = [\"python\",\"pythoner\",\"pythoning\",\"pythoned\",\"pythonly\",\"wolves\", \"leaves\",\"horses\",\"dogs\",\"fairly\",\"computer\",\"computing\", \"computers\",\"computation\"]\n",
    "for word in list_words:\n",
    "    print(ps.stem(word))"
   ]
  },
  {
   "cell_type": "code",
   "execution_count": 16,
   "metadata": {},
   "outputs": [
    {
     "name": "stdout",
     "output_type": "stream",
     "text": [
      "we are learning artificial intelligence and machine learning. machine learning is a subset of artificial intelligence\n"
     ]
    }
   ],
   "source": [
    "# coverting the complete text to lower case\n",
    "text=\"We are learning Artificial Intelligence and Machine learning. Machine learning is a subset of Artificial Intelligence\"\n",
    "text=text.lower()\n",
    "print(text)"
   ]
  },
  {
   "cell_type": "code",
   "execution_count": 17,
   "metadata": {},
   "outputs": [
    {
     "name": "stdout",
     "output_type": "stream",
     "text": [
      "['we', 'are', 'learning', 'artificial', 'intelligence', 'and', 'machine', 'learning', '.', 'machine', 'learning', 'is', 'a', 'subset', 'of', 'artificial', 'intelligence']\n",
      "17\n"
     ]
    }
   ],
   "source": [
    "# to find the number of words in a given text\n",
    "from nltk.tokenize import  word_tokenize\n",
    "word_tokens = word_tokenize(text)\n",
    "print(word_tokens)\n",
    "print(len(word_tokens))"
   ]
  },
  {
   "cell_type": "code",
   "execution_count": 18,
   "metadata": {},
   "outputs": [
    {
     "name": "stdout",
     "output_type": "stream",
     "text": [
      "['we', 'are', 'learning', 'artificial', 'intelligence', 'and', 'machine', 'learning.', 'machine', 'learning', 'is', 'a', 'subset', 'of', 'artificial', 'intelligence']\n",
      "16\n"
     ]
    }
   ],
   "source": [
    "# to find the number of words in a given text using split function\n",
    "words=text.split()\n",
    "print(words)\n",
    "print(len(words))"
   ]
  },
  {
   "cell_type": "code",
   "execution_count": 8,
   "metadata": {},
   "outputs": [
    {
     "name": "stdout",
     "output_type": "stream",
     "text": [
      "we\n",
      "are\n",
      "learn\n",
      "artifici\n",
      "intellig\n",
      "and\n",
      "machin\n",
      "learning.\n",
      "machin\n",
      "learn\n",
      "is\n",
      "a\n",
      "subset\n",
      "of\n",
      "artifici\n",
      "intellig\n"
     ]
    }
   ],
   "source": [
    "#stemming the given text\n",
    "from nltk.stem import PorterStemmer\n",
    "ps = PorterStemmer()\n",
    "for word in words:\n",
    "    print(ps.stem(word))"
   ]
  },
  {
   "cell_type": "code",
   "execution_count": 11,
   "metadata": {},
   "outputs": [
    {
     "name": "stdout",
     "output_type": "stream",
     "text": [
      "['456', '789', '101112']\n"
     ]
    }
   ],
   "source": [
    "#to identify the numbers in the given text.\n",
    "text=\"We are123 456 789 101112 Machine learning. Machine learning is a subset of Artificial Intelligence\"\n",
    "a=[text for text in text.split() if text.isdigit()]\n",
    "print(a) "
   ]
  },
  {
   "cell_type": "code",
   "execution_count": null,
   "metadata": {
    "collapsed": true
   },
   "outputs": [],
   "source": []
  }
 ],
 "metadata": {
  "kernelspec": {
   "display_name": "Python 3",
   "language": "python",
   "name": "python3"
  },
  "language_info": {
   "codemirror_mode": {
    "name": "ipython",
    "version": 3
   },
   "file_extension": ".py",
   "mimetype": "text/x-python",
   "name": "python",
   "nbconvert_exporter": "python",
   "pygments_lexer": "ipython3",
   "version": "3.8.3"
  }
 },
 "nbformat": 4,
 "nbformat_minor": 2
}
