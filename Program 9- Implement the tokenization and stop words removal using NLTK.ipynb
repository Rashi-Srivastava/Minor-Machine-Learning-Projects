{
 "cells": [
  {
   "cell_type": "markdown",
   "metadata": {},
   "source": [
    "# Program-9 Implement Tokenization and stopwords removal using NLTK"
   ]
  },
  {
   "cell_type": "code",
   "execution_count": 1,
   "metadata": {
    "collapsed": true
   },
   "outputs": [],
   "source": [
    "import nltk"
   ]
  },
  {
   "cell_type": "code",
   "execution_count": 2,
   "metadata": {},
   "outputs": [
    {
     "name": "stdout",
     "output_type": "stream",
     "text": [
      "['We', 'are', 'learning', 'Artificial', 'Intelligence', 'and', 'Machine', 'learning']\n"
     ]
    }
   ],
   "source": [
    "#word tokenization\n",
    "from nltk.tokenize import word_tokenize\n",
    "words = word_tokenize(\"We are learning Artificial Intelligence and Machine learning\")\n",
    "print (words)"
   ]
  },
  {
   "cell_type": "code",
   "execution_count": 3,
   "metadata": {},
   "outputs": [
    {
     "name": "stdout",
     "output_type": "stream",
     "text": [
      "['Hello NLP learner.', 'This is an NLP python script']\n"
     ]
    }
   ],
   "source": [
    "#Sentence tokenizaton\n",
    "from nltk.tokenize import sent_tokenize\n",
    "sentence = sent_tokenize(\"Hello NLP learner. This is an NLP python script\")\n",
    "print (sentence)"
   ]
  },
  {
   "cell_type": "markdown",
   "metadata": {},
   "source": [
    "# Code to remove the stop words from the given text"
   ]
  },
  {
   "cell_type": "code",
   "execution_count": 4,
   "metadata": {},
   "outputs": [
    {
     "name": "stdout",
     "output_type": "stream",
     "text": [
      "{\"mightn't\", 'these', 'our', 'its', 'any', 'what', 'them', \"doesn't\", \"hadn't\", 'mustn', 'of', 'from', 'is', 'been', 'or', 'at', 'down', 'how', 'both', 'most', \"wasn't\", 'doing', 'him', 'that', 'between', 'more', 'll', 'and', 'd', 'weren', 'yourselves', 'once', 'an', \"mustn't\", 'can', 'your', 'itself', \"you're\", 'only', 'other', 'mightn', 'under', 'hers', \"wouldn't\", 'which', 'because', \"you'd\", 'being', 'do', 'all', \"aren't\", 'after', 'they', \"weren't\", 'some', 'ourselves', 'no', 'doesn', 'we', 'up', 'y', 'when', \"won't\", 'while', 'won', 'didn', 'haven', \"hasn't\", 'before', 'aren', 'a', 'further', 'by', \"that'll\", 'to', 'few', 'the', \"you've\", \"she's\", 'herself', 'have', 'don', 'has', 'but', \"didn't\", 'her', 'so', 'until', 'through', 'whom', 'about', 'my', 'each', 've', 'very', 'she', \"couldn't\", 'wasn', \"it's\", 'with', 'me', \"haven't\", \"shan't\", 'those', 'there', 'his', 'such', 'then', 'their', 's', 'was', 'for', 'same', 'just', 'ma', 'themselves', 'own', 'needn', 'off', 'o', 'couldn', 'did', \"you'll\", 'on', 'myself', 'shouldn', \"shouldn't\", 'had', 'than', \"isn't\", 'nor', 'out', 'hadn', 'will', 'over', 'if', \"don't\", 'again', 'wouldn', 'as', 'why', 'ours', 'himself', 'hasn', 'here', 'should', 'be', \"needn't\", 'you', 'below', 'having', 'm', 'now', 'ain', 'shan', 're', 'yours', 'in', 'isn', 'does', 'are', 'he', 'theirs', 'too', 'against', 'it', 'this', 'were', 'during', 'i', 'where', \"should've\", 'not', 'who', 'into', 't', 'yourself', 'am', 'above'}\n"
     ]
    }
   ],
   "source": [
    "from nltk.corpus import stopwords\n",
    "stop_words = set(stopwords.words('english'))\n",
    "print(stop_words)"
   ]
  },
  {
   "cell_type": "code",
   "execution_count": 8,
   "metadata": {},
   "outputs": [
    {
     "name": "stdout",
     "output_type": "stream",
     "text": [
      "['sample', 'sentence', ',', 'showing', 'stop', 'words', 'filtration', '.']\n"
     ]
    }
   ],
   "source": [
    "example_sent = \"this is a sample sentence, showing off the stop words filtration.\"\n",
    "word_tokens = word_tokenize(example_sent)\n",
    "filtered_sentence = []\n",
    "\n",
    "for w in word_tokens:\n",
    "    if w not in stop_words:\n",
    "        filtered_sentence.append(w)\n",
    "print(filtered_sentence)"
   ]
  },
  {
   "cell_type": "code",
   "execution_count": null,
   "metadata": {
    "collapsed": true
   },
   "outputs": [],
   "source": []
  }
 ],
 "metadata": {
  "kernelspec": {
   "display_name": "Python 3",
   "language": "python",
   "name": "python3"
  },
  "language_info": {
   "codemirror_mode": {
    "name": "ipython",
    "version": 3
   },
   "file_extension": ".py",
   "mimetype": "text/x-python",
   "name": "python",
   "nbconvert_exporter": "python",
   "pygments_lexer": "ipython3",
   "version": "3.8.3"
  }
 },
 "nbformat": 4,
 "nbformat_minor": 2
}
