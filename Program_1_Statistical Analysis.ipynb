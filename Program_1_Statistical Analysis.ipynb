{
 "cells": [
  {
   "cell_type": "markdown",
   "metadata": {
    "collapsed": true
   },
   "source": [
    "Python program to find the Mean, median, mode, standard deviation, variance using python libraries and withour using libraries.\n",
    "Read the data from the stats.xlsx"
   ]
  },
  {
   "cell_type": "code",
   "execution_count": 5,
   "metadata": {},
   "outputs": [],
   "source": [
    "#import the required packages\n",
    "import pandas as pd\n",
    "import numpy as np"
   ]
  },
  {
   "cell_type": "code",
   "execution_count": 6,
   "metadata": {},
   "outputs": [
    {
     "name": "stdout",
     "output_type": "stream",
     "text": [
      "    Emp#  YearsOfExp  Salary in Rs.\n",
      "0      1          10         126015\n",
      "1      2           1          12598\n",
      "2      3           8         100639\n",
      "3      4          10         125351\n",
      "4      5           2          25031\n",
      "5      6           5          62630\n",
      "6      7           9         112620\n",
      "7      8           8         100639\n",
      "8      9           4          50145\n",
      "9     10           2          25232\n",
      "10    11           9         112770\n",
      "11    12           3          37512\n",
      "12    13           4          50274\n",
      "13    14           5          62768\n",
      "14    15          10         125363\n",
      "15    16           2          25226\n",
      "16    17           6          75392\n",
      "17    18           7          87779\n",
      "18    19           7          87654\n",
      "19    20           3          37592\n",
      "20    21          10         125186\n",
      "21    22           2          25187\n",
      "22    23           9         113309\n",
      "23    24           9         113112\n",
      "24    25          10         125506\n"
     ]
    }
   ],
   "source": [
    "#read the data from the stats.xlsx using pandas.\n",
    "data=pd.read_csv(r'/home/rashi/Documents/ML_Programs/Stats.csv')\n",
    "print(data)"
   ]
  },
  {
   "cell_type": "code",
   "execution_count": 7,
   "metadata": {},
   "outputs": [
    {
     "name": "stdout",
     "output_type": "stream",
     "text": [
      "(25, 3)\n",
      "   Emp#  YearsOfExp  Salary in Rs.\n",
      "0     1          10         126015\n",
      "1     2           1          12598\n",
      "2     3           8         100639\n",
      "3     4          10         125351\n",
      "4     5           2          25031\n",
      "5     6           5          62630\n",
      "6     7           9         112620\n",
      "7     8           8         100639\n",
      "8     9           4          50145\n",
      "9    10           2          25232\n"
     ]
    },
    {
     "data": {
      "text/html": [
       "<div>\n",
       "<style scoped>\n",
       "    .dataframe tbody tr th:only-of-type {\n",
       "        vertical-align: middle;\n",
       "    }\n",
       "\n",
       "    .dataframe tbody tr th {\n",
       "        vertical-align: top;\n",
       "    }\n",
       "\n",
       "    .dataframe thead th {\n",
       "        text-align: right;\n",
       "    }\n",
       "</style>\n",
       "<table border=\"1\" class=\"dataframe\">\n",
       "  <thead>\n",
       "    <tr style=\"text-align: right;\">\n",
       "      <th></th>\n",
       "      <th>Emp#</th>\n",
       "      <th>YearsOfExp</th>\n",
       "      <th>Salary in Rs.</th>\n",
       "    </tr>\n",
       "  </thead>\n",
       "  <tbody>\n",
       "    <tr>\n",
       "      <th>count</th>\n",
       "      <td>25.000000</td>\n",
       "      <td>25.000000</td>\n",
       "      <td>25.000000</td>\n",
       "    </tr>\n",
       "    <tr>\n",
       "      <th>mean</th>\n",
       "      <td>13.000000</td>\n",
       "      <td>6.200000</td>\n",
       "      <td>77821.200000</td>\n",
       "    </tr>\n",
       "    <tr>\n",
       "      <th>std</th>\n",
       "      <td>7.359801</td>\n",
       "      <td>3.175426</td>\n",
       "      <td>39847.615281</td>\n",
       "    </tr>\n",
       "    <tr>\n",
       "      <th>min</th>\n",
       "      <td>1.000000</td>\n",
       "      <td>1.000000</td>\n",
       "      <td>12598.000000</td>\n",
       "    </tr>\n",
       "    <tr>\n",
       "      <th>25%</th>\n",
       "      <td>7.000000</td>\n",
       "      <td>3.000000</td>\n",
       "      <td>37592.000000</td>\n",
       "    </tr>\n",
       "    <tr>\n",
       "      <th>50%</th>\n",
       "      <td>13.000000</td>\n",
       "      <td>7.000000</td>\n",
       "      <td>87654.000000</td>\n",
       "    </tr>\n",
       "    <tr>\n",
       "      <th>75%</th>\n",
       "      <td>19.000000</td>\n",
       "      <td>9.000000</td>\n",
       "      <td>113112.000000</td>\n",
       "    </tr>\n",
       "    <tr>\n",
       "      <th>max</th>\n",
       "      <td>25.000000</td>\n",
       "      <td>10.000000</td>\n",
       "      <td>126015.000000</td>\n",
       "    </tr>\n",
       "  </tbody>\n",
       "</table>\n",
       "</div>"
      ],
      "text/plain": [
       "            Emp#  YearsOfExp  Salary in Rs.\n",
       "count  25.000000   25.000000      25.000000\n",
       "mean   13.000000    6.200000   77821.200000\n",
       "std     7.359801    3.175426   39847.615281\n",
       "min     1.000000    1.000000   12598.000000\n",
       "25%     7.000000    3.000000   37592.000000\n",
       "50%    13.000000    7.000000   87654.000000\n",
       "75%    19.000000    9.000000  113112.000000\n",
       "max    25.000000   10.000000  126015.000000"
      ]
     },
     "execution_count": 7,
     "metadata": {},
     "output_type": "execute_result"
    }
   ],
   "source": [
    "# shape, head and describe functions of Dataframe\n",
    "print(data.shape)\n",
    "print(data.head(10))\n",
    "data.describe()"
   ]
  },
  {
   "cell_type": "code",
   "execution_count": 8,
   "metadata": {},
   "outputs": [],
   "source": [
    "# printing mean, std.dev, variance, median and mode of the 'YearsOfExP' Column\n",
    "# convert dataframe data into numpy array"
   ]
  },
  {
   "cell_type": "code",
   "execution_count": 9,
   "metadata": {},
   "outputs": [
    {
     "name": "stdout",
     "output_type": "stream",
     "text": [
      "YearsOfExp array is: [10  1  8 10  2  5  9  8  4  2  9  3  4  5 10  2  6  7  7  3 10  2  9  9\n",
      " 10]\n",
      "Mean: 6.2\n",
      "Standard Deviation: 3.111269837220809\n",
      "variance: 9.68\n",
      "median: 7.0\n",
      "mode:\n",
      "ModeResult(mode=array([10]), count=array([5]))\n"
     ]
    }
   ],
   "source": [
    "arr=np.array(data['YearsOfExp'])\n",
    "print(\"YearsOfExp array is:\", + arr)\n",
    "print('Mean:',+arr.mean())\n",
    "print('Standard Deviation:',+arr.std())\n",
    "print('variance:',+arr.var())\n",
    "print('median:',+np.median(arr))\n",
    "from scipy import stats\n",
    "print('mode:')\n",
    "print(stats.mode(arr))"
   ]
  },
  {
   "cell_type": "code",
   "execution_count": 10,
   "metadata": {},
   "outputs": [],
   "source": [
    "# printing mean, std.dev, variance, median and mode of the 'Salary in Rs.' Column\n",
    "# convert dataframe data into numpy array"
   ]
  },
  {
   "cell_type": "markdown",
   "metadata": {
    "collapsed": true
   },
   "source": [
    "#calculate mean, median, mode , std, var for another column"
   ]
  },
  {
   "cell_type": "code",
   "execution_count": 11,
   "metadata": {},
   "outputs": [
    {
     "name": "stdout",
     "output_type": "stream",
     "text": [
      "YearsOfExp array is: [126015  12598 100639 125351  25031  62630 112620 100639  50145  25232\n",
      " 112770  37512  50274  62768 125363  25226  75392  87779  87654  37592\n",
      " 125186  25187 113309 113112 125506]\n",
      "Mean: 77821.2\n",
      "Standard Deviation: 39042.52996208109\n",
      "variance: 1524319145.84\n",
      "median: 87654.0\n",
      "mode:\n",
      "ModeResult(mode=array([100639]), count=array([2]))\n"
     ]
    }
   ],
   "source": [
    "arr1=np.array(data['Salary in Rs.'])\n",
    "print(\"YearsOfExp array is:\", + arr1)\n",
    "print('Mean:',+arr1.mean())\n",
    "print('Standard Deviation:',+arr1.std())\n",
    "print('variance:',+arr1.var())\n",
    "print('median:',+np.median(arr1))\n",
    "from scipy import stats\n",
    "print('mode:')\n",
    "print(stats.mode(arr1))"
   ]
  },
  {
   "cell_type": "markdown",
   "metadata": {},
   "source": [
    "#calculate the mean, median,mode, std, var without using libraries"
   ]
  },
  {
   "cell_type": "code",
   "execution_count": 12,
   "metadata": {},
   "outputs": [],
   "source": [
    "#Mean of the First coloumn without using the built in libraries"
   ]
  },
  {
   "cell_type": "code",
   "execution_count": 13,
   "metadata": {},
   "outputs": [
    {
     "name": "stdout",
     "output_type": "stream",
     "text": [
      "mean: 6.2\n"
     ]
    }
   ],
   "source": [
    "n=len(arr)\n",
    "s=sum(arr)\n",
    "mean=s/n\n",
    "print('mean:',+mean)"
   ]
  },
  {
   "cell_type": "code",
   "execution_count": 14,
   "metadata": {},
   "outputs": [],
   "source": [
    "#standard deviation"
   ]
  },
  {
   "cell_type": "code",
   "execution_count": 15,
   "metadata": {},
   "outputs": [
    {
     "name": "stdout",
     "output_type": "stream",
     "text": [
      "standard deviation: 3.111269837220809\n"
     ]
    }
   ],
   "source": [
    "std_dev = np.sqrt(np.mean((arr - np.mean(arr)) ** 2 ))\n",
    "print('standard deviation:',+std_dev)"
   ]
  },
  {
   "cell_type": "code",
   "execution_count": 16,
   "metadata": {},
   "outputs": [],
   "source": [
    "#variance calculation"
   ]
  },
  {
   "cell_type": "code",
   "execution_count": 17,
   "metadata": {},
   "outputs": [
    {
     "name": "stdout",
     "output_type": "stream",
     "text": [
      "variance: 9.68\n"
     ]
    }
   ],
   "source": [
    "var = np.mean((arr - np.mean(arr)) ** 2 )\n",
    "print('variance:',+var)"
   ]
  },
  {
   "cell_type": "code",
   "execution_count": 18,
   "metadata": {},
   "outputs": [],
   "source": [
    "#Median"
   ]
  },
  {
   "cell_type": "code",
   "execution_count": 19,
   "metadata": {},
   "outputs": [
    {
     "name": "stdout",
     "output_type": "stream",
     "text": [
      "Median is: 7\n"
     ]
    }
   ],
   "source": [
    "n = len(arr) \n",
    "arr.sort()\n",
    "if n % 2 == 0: \n",
    "    median1 = arr[n//2]\n",
    "    print(median1)\n",
    "    median2 = arr[n//2 - 1] \n",
    "    print(median2)\n",
    "    median = (median1 + median2)/2\n",
    "else: \n",
    "    median = arr[n//2] \n",
    "print(\"Median is: \" + str(median)) "
   ]
  },
  {
   "cell_type": "code",
   "execution_count": 20,
   "metadata": {},
   "outputs": [],
   "source": [
    "#Mode"
   ]
  },
  {
   "cell_type": "code",
   "execution_count": 21,
   "metadata": {},
   "outputs": [
    {
     "name": "stdout",
     "output_type": "stream",
     "text": [
      "Counter({10: 5, 2: 4, 9: 4, 3: 2, 4: 2, 5: 2, 7: 2, 8: 2, 1: 1, 6: 1})\n",
      "{1: 1, 2: 4, 3: 2, 4: 2, 5: 2, 6: 1, 7: 2, 8: 2, 9: 4, 10: 5}\n",
      "Mode is / are: 10\n"
     ]
    }
   ],
   "source": [
    "from collections import Counter \n",
    "# list of elements to calculate mode \n",
    "n = len(arr) \n",
    "data = Counter(arr) \n",
    "print(data)\n",
    "get_mode = dict(data) \n",
    "print(get_mode)\n",
    "mode = [k for k, v in get_mode.items() if v == max(list(data.values()))] \n",
    "  \n",
    "if len(mode) == n: \n",
    "    get_mode = \"No mode found\"\n",
    "else: \n",
    "    get_mode = \"Mode is / are: \" + ', '.join(map(str, mode)) \n",
    "      \n",
    "print(get_mode) "
   ]
  },
  {
   "cell_type": "markdown",
   "metadata": {
    "collapsed": true
   },
   "source": [
    "# Similarly Calculate the Mean, median, mode, variance and standard deviation for 2nd column"
   ]
  },
  {
   "cell_type": "markdown",
   "metadata": {},
   "source": [
    "# This is your Assignment"
   ]
  },
  {
   "cell_type": "code",
   "execution_count": null,
   "metadata": {
    "collapsed": true
   },
   "outputs": [],
   "source": []
  }
 ],
 "metadata": {
  "kernelspec": {
   "display_name": "Python 3",
   "language": "python",
   "name": "python3"
  },
  "language_info": {
   "codemirror_mode": {
    "name": "ipython",
    "version": 3
   },
   "file_extension": ".py",
   "mimetype": "text/x-python",
   "name": "python",
   "nbconvert_exporter": "python",
   "pygments_lexer": "ipython3",
   "version": "3.8.3"
  }
 },
 "nbformat": 4,
 "nbformat_minor": 2
}
